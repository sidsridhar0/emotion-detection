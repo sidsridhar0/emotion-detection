{
 "cells": [
  {
   "cell_type": "code",
   "execution_count": 1,
   "metadata": {},
   "outputs": [],
   "source": [
    "import numpy as np\n",
    "import matplotlib.pyplot as plt\n",
    "import pandas as pd\n",
    "import os\n",
    "import cv2\n",
    "\n",
    "from sklearn.datasets import fetch_openml\n",
    "from sklearn.preprocessing import StandardScaler\n",
    "from sklearn.model_selection import train_test_split\n",
    "from sklearn.metrics import accuracy_score, zero_one_loss\n",
    "\n",
    "#from sklearn.linear_model import LogisticRegression\n",
    "from sklearn.neural_network import MLPClassifier\n",
    "\n",
    "import warnings\n",
    "warnings.filterwarnings('ignore')\n",
    "\n",
    "# Fix the random seed for reproducibility\n",
    "# !! Important !! : do not change this\n",
    "seed = 1234\n",
    "np.random.seed(seed)\n",
    "\n",
    "emotion_dict = {'SURPRISE' : 1, 'DISGUST' : 2, 'HAPPINESS' : 3, 'FEAR' : 4, 'ANGER' : 5, 'CONTEMPT' : 6, 'NEUTRAL' : 7,  'SADNESS' : 8}"
   ]
  },
  {
   "cell_type": "code",
   "execution_count": 2,
   "metadata": {},
   "outputs": [],
   "source": [
    "def load_images(directory):\n",
    "    data_legend = './data/facial_expressions/data/legend.csv'\n",
    "    df = pd.read_csv(data_legend, delimiter=',', names=['user.id','image','emotion'], header=1)\n",
    "    labels = []\n",
    "    images = []\n",
    "    for img_name in os.listdir(directory):\n",
    "        index = np.where(df.image == img_name)\n",
    "        if len(index[0]) > 0:\n",
    "            img_path = os.path.join(directory, img_name)\n",
    "            img = cv2.imread(img_path, cv2.IMREAD_GRAYSCALE)  # Read image in grayscale\n",
    "            img = cv2.resize(img, (350, 350))  # Resize to a consistent size\n",
    "            images.append(img)\n",
    "\n",
    "            labels.append(emotion_dict[df.emotion[index[0][0]].upper()])\n",
    "\n",
    "    return images, labels"
   ]
  },
  {
   "cell_type": "code",
   "execution_count": 3,
   "metadata": {},
   "outputs": [
    {
     "name": "stdout",
     "output_type": "stream",
     "text": [
      "loading images\n"
     ]
    },
    {
     "name": "stdout",
     "output_type": "stream",
     "text": [
      "loaded images\n",
      "0\n"
     ]
    }
   ],
   "source": [
    "data_dir = './data/facial_expressions/images'\n",
    "print(\"loading images\")\n",
    "X, y = np.array(load_images(data_dir))\n",
    "X = np.array([img.flatten() for img in X])\n",
    "y = y.astype('int')\n",
    "\n",
    "print('loaded images')\n",
    "rate = 0.01\n",
    "X_tr_1, X_te_1, y_tr_1, y_te_1 = train_test_split(X, y, test_size=0.1, random_state=seed, shuffle=True)\n",
    "X_tr_2, X_te_2, y_tr_2, y_te_2 = train_test_split(X, y, test_size=0.25, random_state=seed, shuffle=True)\n",
    "X_tr_3, X_te_3, y_tr_3, y_te_3 = train_test_split(X, y, test_size=0.5, random_state=seed, shuffle=True)\n",
    "scores = [0, 0, 0, 0, 0]\n",
    "print(scores[4])"
   ]
  },
  {
   "cell_type": "code",
   "execution_count": 4,
   "metadata": {},
   "outputs": [
    {
     "name": "stdout",
     "output_type": "stream",
     "text": [
      "1: 0.5007307804735458\n"
     ]
    }
   ],
   "source": [
    "nn1 = MLPClassifier(random_state=seed, hidden_layer_sizes = (8), max_iter=100).fit(X_tr_2, y_tr_2)\n",
    "nn1_score = nn1.score(X_te_2, y_te_2)\n",
    "scores[0] = nn1_score\n",
    "print('1:', nn1_score)\n",
    "print(scores)\n"
   ]
  },
  {
   "cell_type": "code",
   "execution_count": 5,
   "metadata": {},
   "outputs": [
    {
     "name": "stdout",
     "output_type": "stream",
     "text": [
      "2: 0.7412658967987137\n"
     ]
    }
   ],
   "source": [
    "nn2 = MLPClassifier(random_state=seed, hidden_layer_sizes=(350, 350), max_iter=300).fit(X_tr_3, y_tr_3)\n",
    "\n",
    "nn2_score = nn2.score(X_te_3, y_te_3)\n",
    "scores[1] = nn2_score\n",
    "print('2:', nn2_score)\n",
    "print(scores)"
   ]
  },
  {
   "cell_type": "code",
   "execution_count": 6,
   "metadata": {},
   "outputs": [
    {
     "name": "stdout",
     "output_type": "stream",
     "text": [
      "3: 0.7363038714390066\n",
      "[0.5007307804735458, 0.7412658967987137, 0.7363038714390066, 0, 0]\n"
     ]
    }
   ],
   "source": [
    "nn3 =  MLPClassifier(\n",
    "    random_state=seed,\n",
    "    hidden_layer_sizes=(100, 50),\n",
    "    learning_rate='adaptive',\n",
    "    early_stopping=True\n",
    ").fit(X_tr_1, y_tr_1)\n",
    "\n",
    "nn3_score = nn3.score(X_te_1, y_te_1)\n",
    "scores[2] = nn3_score\n",
    "print('3:', nn3_score)\n",
    "print(scores)"
   ]
  },
  {
   "cell_type": "code",
   "execution_count": 7,
   "metadata": {},
   "outputs": [
    {
     "name": "stdout",
     "output_type": "stream",
     "text": [
      "4: 0.7443389335281227\n",
      "[0.5007307804735458, 0.7412658967987137, 0.7363038714390066, 0.7443389335281227, 0]\n"
     ]
    }
   ],
   "source": [
    "nn4 = MLPClassifier(\n",
    "    random_state=seed,\n",
    "    hidden_layer_sizes=(100, 50),\n",
    "    activation='relu',\n",
    "    max_iter=300,\n",
    "    batch_size=64,\n",
    "    learning_rate='adaptive',\n",
    "    alpha=0.0001,\n",
    "    early_stopping=True,\n",
    "    n_iter_no_change=20\n",
    ").fit(X_tr_1, y_tr_1)\n",
    "nn4_score = nn4.score(X_te_1, y_te_1)\n",
    "scores[3] = nn4_score\n",
    "print('4:', nn4_score)\n",
    "print(scores)"
   ]
  },
  {
   "cell_type": "code",
   "execution_count": 8,
   "metadata": {},
   "outputs": [
    {
     "name": "stdout",
     "output_type": "stream",
     "text": [
      "5: 0.6712929145361578\n",
      "[0.5007307804735458, 0.7412658967987137, 0.7363038714390066, 0.7443389335281227, 0.6712929145361578]\n"
     ]
    }
   ],
   "source": [
    "#KEEP THIS AS BASELINE, 67% accuracy\n",
    "\n",
    "nn5 = MLPClassifier(random_state = seed, hidden_layer_sizes = (100,), activation = 'relu', \n",
    "            max_iter=300).fit(X_tr_1, y_tr_1)\n",
    "\n",
    "nn5_score = nn5.score(X_te_1, y_te_1)\n",
    "scores[4] = nn5_score\n",
    "print('5:', nn5_score)\n",
    "print(scores)"
   ]
  },
  {
   "cell_type": "code",
   "execution_count": 14,
   "metadata": {},
   "outputs": [
    {
     "name": "stdout",
     "output_type": "stream",
     "text": [
      "6: 0.7677136596055515\n",
      "[0.5007307804735458, 0.7412658967987137, 0.7363038714390066, 0.7443389335281227, 0.6712929145361578, 0.7677136596055515]\n"
     ]
    }
   ],
   "source": [
    "nn6 = MLPClassifier(\n",
    "    random_state=seed,\n",
    "    hidden_layer_sizes=(200, 100),\n",
    "    activation='relu',\n",
    "    max_iter=500,\n",
    "    batch_size=128,\n",
    "    learning_rate_init=0.001,\n",
    "    solver='adam',\n",
    "    alpha=0.0001,\n",
    "    early_stopping=True,\n",
    "    n_iter_no_change=20\n",
    ").fit(X_tr_1, y_tr_1)\n",
    "\n",
    "nn6_score = nn6.score(X_te_1, y_te_1)\n",
    "scores.append(nn6_score)\n",
    "print('6:', nn6_score)\n",
    "print(scores)"
   ]
  },
  {
   "cell_type": "code",
   "execution_count": 15,
   "metadata": {},
   "outputs": [
    {
     "name": "stdout",
     "output_type": "stream",
     "text": [
      "[0.5007307804735458, 0.7412658967987137, 0.7363038714390066, 0.7443389335281227, 0.6712929145361578, 0.7677136596055515]\n",
      "6\n"
     ]
    },
    {
     "data": {
      "image/png": "[encoded data removed]",
      "text/plain": [
       "<Figure size 640x480 with 1 Axes>"
      ]
     },
     "metadata": {},
     "output_type": "display_data"
    }
   ],
   "source": [
    "print(scores)\n",
    "print(len(scores))\n",
    "plt.plot(range(1, len(scores) + 1), scores, marker='o')\n",
    "plt.xlabel('Attempt')\n",
    "plt.ylabel('Accuracy')\n",
    "plt.title('Accuracy Over Attempts')\n",
    "plt.show()"
   ]
  }
 ],
 "metadata": {
  "kernelspec": {
   "display_name": "Python 3",
   "language": "python",
   "name": "python3"
  },
  "language_info": {
   "codemirror_mode": {
    "name": "ipython",
    "version": 3
   },
   "file_extension": ".py",
   "mimetype": "text/x-python",
   "name": "python",
   "nbconvert_exporter": "python",
   "pygments_lexer": "ipython3",
   "version": "3.10.6"
  }
 },
 "nbformat": 4,
 "nbformat_minor": 2
}
