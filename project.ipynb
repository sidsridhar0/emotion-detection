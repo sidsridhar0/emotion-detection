{
 "cells": [
  {
   "cell_type": "code",
   "execution_count": 9,
   "metadata": {},
   "outputs": [],
   "source": [
    "import numpy as np\n",
    "import matplotlib.pyplot as plt\n",
    "import pandas as pd\n",
    "import os\n",
    "import cv2\n",
    "\n",
    "from sklearn.datasets import fetch_openml\n",
    "from sklearn.preprocessing import StandardScaler\n",
    "from sklearn.model_selection import train_test_split\n",
    "from sklearn.metrics import accuracy_score, zero_one_loss\n",
    "\n",
    "#from sklearn.linear_model import LogisticRegression\n",
    "from sklearn.neural_network import MLPClassifier\n",
    "\n",
    "import warnings\n",
    "warnings.filterwarnings('ignore')\n",
    "\n",
    "# Fix the random seed for reproducibility\n",
    "# !! Important !! : do not change this\n",
    "seed = 1234\n",
    "np.random.seed(seed)\n",
    "\n",
    "emotion_dict = {'SURPRISE' : 1, 'DISGUST' : 2, 'HAPPINESS' : 3, 'FEAR' : 4, 'ANGER' : 5, 'CONTEMPT' : 6, 'NEUTRAL' : 7,  'SADNESS' : 8}"
   ]
  },
  {
   "cell_type": "code",
   "execution_count": 10,
   "metadata": {},
   "outputs": [],
   "source": [
    "def load_images(directory):\n",
    "    data_legend = './data/facial_expressions/data/legend.csv'\n",
    "    df = pd.read_csv(data_legend, delimiter=',', names=['user.id','image','emotion'], header=1)\n",
    "    labels = []\n",
    "    images = []\n",
    "    for img_name in os.listdir(directory):\n",
    "        index = np.where(df.image == img_name)\n",
    "        if len(index[0]) > 0:\n",
    "            img_path = os.path.join(directory, img_name)\n",
    "            img = cv2.imread(img_path, cv2.IMREAD_GRAYSCALE)  # Read image in grayscale\n",
    "            img = cv2.resize(img, (350, 350))  # Resize to a consistent size\n",
    "            images.append(img)\n",
    "\n",
    "            labels.append(emotion_dict[df.emotion[index[0][0]].upper()])\n",
    "\n",
    "    return images, labels"
   ]
  },
  {
   "cell_type": "code",
   "execution_count": 11,
   "metadata": {},
   "outputs": [
    {
     "name": "stdout",
     "output_type": "stream",
     "text": [
      "loading images\n"
     ]
    },
    {
     "name": "stdout",
     "output_type": "stream",
     "text": [
      "loaded images\n"
     ]
    }
   ],
   "source": [
    "data_dir = './data/facial_expressions/images'\n",
    "print(\"loading images\")\n",
    "X, y = np.array(load_images(data_dir))\n",
    "X = np.array([img.flatten() for img in X])\n",
    "y = y.astype('int')\n",
    "\n",
    "print('loaded images')\n",
    "rate = 0.01\n",
    "X_tr_1, X_te_1, y_tr_1, y_te_1 = train_test_split(X, y, test_size=0.1, random_state=seed, shuffle=True)\n",
    "X_tr_2, X_te_2, y_tr_2, y_te_2 = train_test_split(X, y, test_size=0.25, random_state=seed, shuffle=True)\n",
    "X_tr_3, X_te_3, y_tr_3, y_te_3 = train_test_split(X, y, test_size=0.5, random_state=seed, shuffle=True)\n",
    "scores = [0, 0, 0, 0, 0]"
   ]
  },
  {
   "cell_type": "code",
   "execution_count": 12,
   "metadata": {},
   "outputs": [
    {
     "name": "stdout",
     "output_type": "stream",
     "text": [
      "1: 0.4182987430575855\n"
     ]
    }
   ],
   "source": [
    "nn1 = MLPClassifier(random_state=seed, hidden_layer_sizes = (8), max_iter=100).fit(X_tr_2, y_tr_2)\n",
    "nn1_score = nn1.score(X_te_2, y_te_2)\n",
    "scores[0] = nn1_score\n",
    "print('1:', nn1_score)\n"
   ]
  },
  {
   "cell_type": "code",
   "execution_count": null,
   "metadata": {},
   "outputs": [
    {
     "name": "stdout",
     "output_type": "stream",
     "text": [
      "2: 0.7412658967987137\n"
     ]
    }
   ],
   "source": [
    "nn2 = MLPClassifier(random_state=seed, hidden_layer_sizes=(350, 350), max_iter=300).fit(X_tr_3, y_tr_3)\n",
    "\n",
    "nn2_score = nn2.score(X_te_3, y_te_3)\n",
    "scores[1] = nn2_score\n",
    "print('2:', nn2_score)"
   ]
  },
  {
   "cell_type": "code",
   "execution_count": null,
   "metadata": {},
   "outputs": [
    {
     "name": "stdout",
     "output_type": "stream",
     "text": [
      "3: 0.5142439737034331\n"
     ]
    }
   ],
   "source": [
    "nn3 =  MLPClassifier(\n",
    "    random_state=seed,\n",
    "    hidden_layer_sizes=(100, 50),\n",
    "    learning_rate='adaptive',\n",
    "    early_stopping=True\n",
    ").fit(X_tr_1, y_tr_1)\n",
    "\n",
    "nn3_score = nn3.score(X_te_1, y_te_1)\n",
    "scores[2] = nn3_score\n",
    "print('3:', nn3_score)"
   ]
  },
  {
   "cell_type": "code",
   "execution_count": null,
   "metadata": {},
   "outputs": [
    {
     "name": "stdout",
     "output_type": "stream",
     "text": [
      "4: 0.7443389335281227\n"
     ]
    }
   ],
   "source": [
    "nn4 = MLPClassifier(\n",
    "    random_state=seed,\n",
    "    hidden_layer_sizes=(100, 50),\n",
    "    activation='relu',\n",
    "    max_iter=300,\n",
    "    batch_size=64,\n",
    "    learning_rate='adaptive',\n",
    "    alpha=0.0001,\n",
    "    early_stopping=True,\n",
    "    n_iter_no_change=20\n",
    ").fit(X_tr_1, y_tr_1)\n",
    "nn4_score = nn4.score(X_te_1, y_te_1)\n",
    "scores[3] = nn4_score\n",
    "print('4:', nn4_score)"
   ]
  },
  {
   "cell_type": "code",
   "execution_count": null,
   "metadata": {},
   "outputs": [
    {
     "ename": "IndexError",
     "evalue": "list assignment index out of range",
     "output_type": "error",
     "traceback": [
      "\u001b[0;31m---------------------------------------------------------------------------\u001b[0m",
      "\u001b[0;31mIndexError\u001b[0m                                Traceback (most recent call last)",
      "\u001b[1;32m/home/sridhar3/machine_learning/project.ipynb Cell 8\u001b[0m line \u001b[0;36m7\n\u001b[1;32m      <a href='vscode-notebook-cell://ssh-remote%2Bopenlab.ics.uci.edu/home/sridhar3/machine_learning/project.ipynb#X10sdnNjb2RlLXJlbW90ZQ%3D%3D?line=2'>3</a>\u001b[0m nn5 \u001b[39m=\u001b[39m MLPClassifier(random_state \u001b[39m=\u001b[39m seed, hidden_layer_sizes \u001b[39m=\u001b[39m (\u001b[39m100\u001b[39m,), activation \u001b[39m=\u001b[39m \u001b[39m'\u001b[39m\u001b[39mrelu\u001b[39m\u001b[39m'\u001b[39m, \n\u001b[1;32m      <a href='vscode-notebook-cell://ssh-remote%2Bopenlab.ics.uci.edu/home/sridhar3/machine_learning/project.ipynb#X10sdnNjb2RlLXJlbW90ZQ%3D%3D?line=3'>4</a>\u001b[0m             max_iter\u001b[39m=\u001b[39m\u001b[39m300\u001b[39m)\u001b[39m.\u001b[39mfit(X_tr_1, y_tr_1)\n\u001b[1;32m      <a href='vscode-notebook-cell://ssh-remote%2Bopenlab.ics.uci.edu/home/sridhar3/machine_learning/project.ipynb#X10sdnNjb2RlLXJlbW90ZQ%3D%3D?line=5'>6</a>\u001b[0m nn5_score \u001b[39m=\u001b[39m nn5\u001b[39m.\u001b[39mscore(X_te_1, y_te_1)\n\u001b[0;32m----> <a href='vscode-notebook-cell://ssh-remote%2Bopenlab.ics.uci.edu/home/sridhar3/machine_learning/project.ipynb#X10sdnNjb2RlLXJlbW90ZQ%3D%3D?line=6'>7</a>\u001b[0m scores[\u001b[39m4\u001b[39;49m] \u001b[39m=\u001b[39m nn5_score\n\u001b[1;32m      <a href='vscode-notebook-cell://ssh-remote%2Bopenlab.ics.uci.edu/home/sridhar3/machine_learning/project.ipynb#X10sdnNjb2RlLXJlbW90ZQ%3D%3D?line=7'>8</a>\u001b[0m \u001b[39mprint\u001b[39m(\u001b[39m'\u001b[39m\u001b[39m5:\u001b[39m\u001b[39m'\u001b[39m, nn5_score)\n",
      "\u001b[0;31mIndexError\u001b[0m: list assignment index out of range"
     ]
    }
   ],
   "source": [
    "#KEEP THIS AS BASELINE, 67% accuracy\n",
    "\n",
    "nn5 = MLPClassifier(random_state = seed, hidden_layer_sizes = (100,), activation = 'relu', \n",
    "            max_iter=300).fit(X_tr_1, y_tr_1)\n",
    "\n",
    "nn5_score = nn5.score(X_te_1, y_te_1)\n",
    "scores[4] = nn5_score\n",
    "print('5:', nn5_score)"
   ]
  },
  {
   "cell_type": "code",
   "execution_count": null,
   "metadata": {},
   "outputs": [],
   "source": [
    "plt.scatter(len(scores), scores, marker='o')\n",
    "plt.xlabel('Attempt')\n",
    "plt.ylabel('Score')\n",
    "plt.title('Scores Over Attempts')\n",
    "plt.show()"
   ]
  }
 ],
 "metadata": {
  "kernelspec": {
   "display_name": "Python 3",
   "language": "python",
   "name": "python3"
  },
  "language_info": {
   "codemirror_mode": {
    "name": "ipython",
    "version": 3
   },
   "file_extension": ".py",
   "mimetype": "text/x-python",
   "name": "python",
   "nbconvert_exporter": "python",
   "pygments_lexer": "ipython3",
   "version": "3.10.6"
  }
 },
 "nbformat": 4,
 "nbformat_minor": 2
}
