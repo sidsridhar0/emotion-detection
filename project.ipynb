{
 "cells": [
  {
   "cell_type": "code",
   "execution_count": null,
   "metadata": {},
   "outputs": [],
   "source": [
    "import numpy as np\n",
    "import matplotlib.pyplot as plt\n",
    "import pandas as pd\n",
    "import os\n",
    "import cv2\n",
    "\n",
    "from sklearn.datasets import fetch_openml\n",
    "from sklearn.preprocessing import StandardScaler\n",
    "from sklearn.model_selection import train_test_split\n",
    "from sklearn.metrics import accuracy_score, zero_one_loss\n",
    "\n",
    "#from sklearn.linear_model import LogisticRegression\n",
    "from sklearn.neural_network import MLPClassifier\n",
    "\n",
    "import warnings\n",
    "warnings.filterwarnings('ignore')\n",
    "\n",
    "# Fix the random seed for reproducibility\n",
    "# !! Important !! : do not change this\n",
    "seed = 1234\n",
    "np.random.seed(seed)"
   ]
  },
  {
   "cell_type": "code",
   "execution_count": 10,
   "metadata": {},
   "outputs": [],
   "source": [
    "def load_images(directory):\n",
    "    data_legend = './data/facial_expressions/data/legend.csv'\n",
    "    df = pd.read_csv(data_legend, delimiter=',', names=['user.id','image','emotion'], header=1)\n",
    "    labels = []\n",
    "    images = []\n",
    "    for img_name in os.listdir(directory):\n",
    "        index = np.where(df.image == img_name)\n",
    "        if len(index[0]) > 0:\n",
    "            img_path = os.path.join(directory, img_name)\n",
    "            img = cv2.imread(img_path, cv2.IMREAD_GRAYSCALE)  # Read image in grayscale\n",
    "            img = cv2.resize(img, (350, 350))  # Resize to a consistent size\n",
    "            images.append(img)\n",
    "\n",
    "            labels.append(emotion_dict[df.emotion[index[0][0]].upper()])\n",
    "\n",
    "    return images, labels"
   ]
  },
  {
   "cell_type": "code",
   "execution_count": 12,
   "metadata": {},
   "outputs": [
    {
     "name": "stdout",
     "output_type": "stream",
     "text": [
      "loading images\n",
      "loaded images\n"
     ]
    }
   ],
   "source": [
    "emotion_dict = {'SURPRISE' : 1, 'DISGUST' : 2, 'HAPPINESS' : 3, 'FEAR' : 4, 'ANGER' : 5, 'CONTEMPT' : 6, 'NEUTRAL' : 7,  'SADNESS' : 8}\n",
    "\n",
    "data_dir = './data/facial_expressions/images'\n",
    "print(\"loading images\")\n",
    "X, y = np.array(load_images(data_dir))\n",
    "X = np.array([img.flatten() for img in X])\n",
    "y = y.astype('int')\n",
    "\n",
    "print('loaded images')\n",
    "rate = 0.01\n",
    "X_tr, X_te, y_tr, y_te = train_test_split(X, y, test_size=0.1, random_state=seed, shuffle=True)\n",
    "scores = []"
   ]
  },
  {
   "cell_type": "code",
   "execution_count": 13,
   "metadata": {},
   "outputs": [],
   "source": [
    "#accuracy = 0.5142439737034331\n",
    "nn1 = MLPClassifier(random_state = seed, hidden_layer_sizes = [4], activation = 'relu', \n",
    "            batch_size = 256, n_iter_no_change=100, max_iter=100, solver = 'sgd', learning_rate_init=rate).fit(X_tr, y_tr)\n",
    "nn1_score = nn1.score(X_te, y_te)\n",
    "scores.append(nn1_score)\n",
    "print('1:', nn1_score)\n"
   ]
  },
  {
   "cell_type": "code",
   "execution_count": null,
   "metadata": {},
   "outputs": [],
   "source": [
    "#accuracy = 0.5142439737034331\n",
    "nn2 = MLPClassifier(random_state = seed, hidden_layer_sizes = [350, 350], activation = 'relu', \n",
    "            batch_size = 256, n_iter_no_change=100, max_iter=100, solver = 'sgd', learning_rate_init=rate).fit(X_tr, y_tr)\n",
    "\n",
    "nn2_score = nn2.score(X_te, y_te)\n",
    "scores.append(nn2_score)\n",
    "print('2:', nn1_score)"
   ]
  },
  {
   "cell_type": "code",
   "execution_count": null,
   "metadata": {},
   "outputs": [],
   "source": [
    "#accuracy = 0.5142439737034331\n",
    "nn3 = MLPClassifier(random_state = seed, hidden_layer_sizes = [64, 64], activation = 'relu', \n",
    "            batch_size = 128, n_iter_no_change=100, max_iter=100, solver = 'sgd', learning_rate_init=rate).fit(X_tr, y_tr)\n",
    "\n",
    "nn3_score = nn3.score(X_te, y_te)\n",
    "scores.append(nn3_score)\n",
    "print('3:', nn3_score)"
   ]
  },
  {
   "cell_type": "code",
   "execution_count": null,
   "metadata": {},
   "outputs": [],
   "source": [
    "#accuracy = 0.5142439737034331\n",
    "nn4 = MLPClassifier(random_state = seed, hidden_layer_sizes = [256, 256], activation = 'relu', \n",
    "            batch_size = 128, n_iter_no_change=100, max_iter=100, solver = 'sgd', learning_rate_init=rate).fit(X_tr, y_tr)\n",
    "\n",
    "nn4_score = nn4.score(X_te, y_te)\n",
    "scores.append(nn4_score)\n",
    "print('4:', nn4_score)"
   ]
  },
  {
   "cell_type": "code",
   "execution_count": null,
   "metadata": {},
   "outputs": [],
   "source": [
    "#accuracy = \n",
    "nn5 = MLPClassifier(random_state = seed, hidden_layer_sizes = [350, 350], activation = 'relu', \n",
    "            batch_size = 256, n_iter_no_change=100, max_iter=100, solver = 'sgd', learning_rate_init=0.005).fit(X_tr, y_tr)\n",
    "\n",
    "nn5_score = nn5.score(X_te, y_te)\n",
    "scores.append(nn5_score)\n",
    "print('5:', nn1_score)"
   ]
  },
  {
   "cell_type": "code",
   "execution_count": null,
   "metadata": {},
   "outputs": [],
   "source": [
    "plt.plot(range(1, 6), scores, marker='o')\n",
    "plt.xlabel('Attempt')\n",
    "plt.ylabel('Score')\n",
    "plt.title('Scores Over Attempts')\n",
    "plt.show()"
   ]
  }
 ],
 "metadata": {
  "kernelspec": {
   "display_name": "Python 3",
   "language": "python",
   "name": "python3"
  },
  "language_info": {
   "codemirror_mode": {
    "name": "ipython",
    "version": 3
   },
   "file_extension": ".py",
   "mimetype": "text/x-python",
   "name": "python",
   "nbconvert_exporter": "python",
   "pygments_lexer": "ipython3",
   "version": "3.10.6"
  }
 },
 "nbformat": 4,
 "nbformat_minor": 2
}
